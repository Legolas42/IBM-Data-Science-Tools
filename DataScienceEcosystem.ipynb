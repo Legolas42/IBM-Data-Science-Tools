{
 "cells": [
  {
   "cell_type": "markdown",
   "id": "cc2a4741-39ae-4946-b59b-6b686a64abe2",
   "metadata": {},
   "source": [
    "# Data Science Tools and Ecosystem"
   ]
  },
  {
   "cell_type": "markdown",
   "id": "9874a85e-4423-49c6-b46e-45b560194c77",
   "metadata": {},
   "source": [
    "In this notebook, Data Science Tools and Ecosystem are summarized."
   ]
  },
  {
   "cell_type": "markdown",
   "id": "3f1e86e0-d919-4a0d-b8f3-fd42b7a48b12",
   "metadata": {},
   "source": [
    "Some of the popular languages that Data Scientists use are:\n",
    "\n",
    "1. Python\n",
    "2. R\n",
    "3. SQL\n",
    "4. Java\n",
    "5. Scala"
   ]
  },
  {
   "cell_type": "markdown",
   "id": "53706709-05af-44d8-8c3c-00220ac9d5cb",
   "metadata": {},
   "source": [
    "Some of the commonly used libraries used by Data Scientists include:\n",
    "\n",
    "1. Pandas\n",
    "2. NumPy\n",
    "3. Scikit-learn\n",
    "4. TensorFlow\n",
    "5. BigDL\n",
    "    "
   ]
  },
  {
   "cell_type": "markdown",
   "id": "d98499f9-e514-492e-8bc0-e3e6a912fd4a",
   "metadata": {},
   "source": [
    "| Data Science Tools |\n",
    "| --- |\n",
    "| Jupyter |\n",
    "| Apache Zeppelin |\n",
    "| RStudio |\n",
    "| Spyder |\n"
   ]
  },
  {
   "cell_type": "markdown",
   "id": "2f54ed67-1098-4550-bca9-236443dcd886",
   "metadata": {},
   "source": [
    "### Below are a few examples of evaluating arithmetic expressions in Python"
   ]
  },
  {
   "cell_type": "code",
   "execution_count": 1,
   "id": "bf051221-45a9-42bf-b00c-8d6a98e72f8d",
   "metadata": {},
   "outputs": [
    {
     "data": {
      "text/plain": [
       "17"
      ]
     },
     "execution_count": 1,
     "metadata": {},
     "output_type": "execute_result"
    }
   ],
   "source": [
    "# This a simple arithmetic expression to mutiply then add integers\n",
    "\n",
    "(3*4)+5"
   ]
  },
  {
   "cell_type": "code",
   "execution_count": 2,
   "id": "673281b7-c3c9-4e10-97d2-60a26ab98d9e",
   "metadata": {},
   "outputs": [
    {
     "data": {
      "text/plain": [
       "3.3333333333333335"
      ]
     },
     "execution_count": 2,
     "metadata": {},
     "output_type": "execute_result"
    }
   ],
   "source": [
    "# This will convert 200 minutes to hours by diving by 60\n",
    "\n",
    "200 / 60"
   ]
  },
  {
   "cell_type": "markdown",
   "id": "86d12b61-5d61-4790-a97f-b49fe127d7f3",
   "metadata": {},
   "source": [
    "Objectives:\n",
    "\n",
    "- List popular languages in Data Science\n",
    "- List commonly used Data Science libraries\n",
    "- List tools for Data Science Development Environments\n",
    "- Use arithmetic expression in Data Science"
   ]
  },
  {
   "cell_type": "markdown",
   "id": "fbed0179-6686-4430-b0b4-666639b2e134",
   "metadata": {},
   "source": [
    "## Author\n",
    "Legolas"
   ]
  }
 ],
 "metadata": {
  "kernelspec": {
   "display_name": "Python",
   "language": "python",
   "name": "conda-env-python-py"
  },
  "language_info": {
   "codemirror_mode": {
    "name": "ipython",
    "version": 3
   },
   "file_extension": ".py",
   "mimetype": "text/x-python",
   "name": "python",
   "nbconvert_exporter": "python",
   "pygments_lexer": "ipython3",
   "version": "3.7.12"
  }
 },
 "nbformat": 4,
 "nbformat_minor": 5
}
